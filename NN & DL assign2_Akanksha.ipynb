{
 "cells": [
  {
   "cell_type": "code",
   "execution_count": 50,
   "id": "102d52c9",
   "metadata": {},
   "outputs": [
    {
     "name": "stdout",
     "output_type": "stream",
     "text": [
      "enter first name Akanksha\n",
      "enter last namePanchaneni\n",
      "AkankshaPanchaneni\n"
     ]
    }
   ],
   "source": [
    "first=input(\"enter first name \") #enter your first name\n",
    "last=input(\"enter last name\")\n",
    "def full_name(first,last):\n",
    "    return(first+last) #returning first and last name\n",
    "\n",
    "print(full_name(first,last)) #printing the combined name"
   ]
  },
  {
   "cell_type": "code",
   "execution_count": 44,
   "id": "0b19b60e",
   "metadata": {},
   "outputs": [
    {
     "name": "stdout",
     "output_type": "stream",
     "text": [
      "good morning\n",
      "go onn"
     ]
    }
   ],
   "source": [
    "n=input()\n",
    "def string_alternative(str1): \n",
    "    for i in range(0,len(str1),2): # printing the alternative char using this for loop\n",
    "        print(str1[i],end=\"\")\n",
    "if __name__==\"__main__\":\n",
    "    string_alternative(n)"
   ]
  },
  {
   "cell_type": "code",
   "execution_count": 45,
   "id": "66deced8",
   "metadata": {},
   "outputs": [],
   "source": [
    "file1 = open(\"input.txt\",\"r\") #reading the input file \n",
    "l=file1.readlines()\n",
    "d={}\n",
    "for i in l:\n",
    "    i=i.replace(\"\\n\",\"\")\n",
    "\n",
    "    k=i.split(\" \")\n",
    "    for j in k:\n",
    "        if(j in d):\n",
    "                d[j]=d[j]+1\n",
    "        else:\n",
    "            d[j]=1\n",
    "file2=open(\"output.txt\",\"w+\") #It creates the output file and the count the no of different words in the input file \n",
    "for i in d:\n",
    "    k=i+\":\"+str(d[i])+\"\\n\"\n",
    "    file2.write(k)"
   ]
  },
  {
   "cell_type": "code",
   "execution_count": 49,
   "id": "8ab2ad36",
   "metadata": {},
   "outputs": [
    {
     "name": "stdout",
     "output_type": "stream",
     "text": [
      "enter heights150 145 160 171\n",
      "[68.03, 65.76, 72.57, 77.55]\n"
     ]
    }
   ],
   "source": [
    "l=list(map(int,input(\"enter heights\").split()))\n",
    "l1=[round(l[i]/2.2049,2) for i in range(0,len(l))]\n",
    "\n",
    "print(l1)"
   ]
  },
  {
   "cell_type": "code",
   "execution_count": null,
   "id": "7fddf9e3",
   "metadata": {},
   "outputs": [],
   "source": []
  }
 ],
 "metadata": {
  "kernelspec": {
   "display_name": "Python 3 (ipykernel)",
   "language": "python",
   "name": "python3"
  },
  "language_info": {
   "codemirror_mode": {
    "name": "ipython",
    "version": 3
   },
   "file_extension": ".py",
   "mimetype": "text/x-python",
   "name": "python",
   "nbconvert_exporter": "python",
   "pygments_lexer": "ipython3",
   "version": "3.9.12"
  }
 },
 "nbformat": 4,
 "nbformat_minor": 5
}
